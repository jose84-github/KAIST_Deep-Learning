{
  "nbformat": 4,
  "nbformat_minor": 0,
  "metadata": {
    "anaconda-cloud": {},
    "kernelspec": {
      "display_name": "Python 3.6 (tensorflow)",
      "language": "python",
      "name": "tensorflow"
    },
    "language_info": {
      "codemirror_mode": {
        "name": "ipython",
        "version": 3
      },
      "file_extension": ".py",
      "mimetype": "text/x-python",
      "name": "python",
      "nbconvert_exporter": "python",
      "pygments_lexer": "ipython3",
      "version": "3.7.7"
    },
    "colab": {
      "name": "파이선기초_python_collections.ipynb",
      "provenance": [],
      "collapsed_sections": []
    }
  },
  "cells": [
    {
      "cell_type": "markdown",
      "metadata": {
        "id": "DZ-5Mwql4ryY"
      },
      "source": [
        "<a href=\"https://colab.research.google.com/drive/1IqjyoGLFeEdDFuPQ1yMA018Zz9DWuCkA#scrollTo=DZ-5Mwql4ryY\" target=\"_parent\"><img src=\"https://colab.research.google.com/assets/colab-badge.svg\" alt=\"Open In Colab\"/></a>"
      ]
    },
    {
      "cell_type": "markdown",
      "metadata": {
        "id": "WEiDqjSm4ryZ"
      },
      "source": [
        "# AI는 내 친구: 왕초보의 인공지능 코딩\n",
        "**파이선 기초**\n",
        "* 담당교수: [오종훈](https://www.business.kaist.ac.kr/faculty/johnoh),  [정보미디어경영대학원](https://www.business.kaist.ac.kr/ksim/), [KAIST 경영대학](https://www.business.kaist.ac.kr/)\n",
        "* 더 많은 정보는 AI는 내친구 공식사이트를 방문하세요 [myfriendis.ai](https://myfriendis.ai).\n",
        "*이 강의는 미국 와싱턴대학의 [Jeff Heaton 교수의 강의](https://colab.research.google.com/github/jeffheaton/t81_558_deep_learning/blob/master/t81_558_class_01_2_intro_python.ipynb)를 참조하여 만든 것입니다."
      ]
    },
    {
      "cell_type": "markdown",
      "metadata": {
        "id": "WD4GqdT54rya"
      },
      "source": [
        "# 파이선 기초\n",
        "\n",
        "* 1편: 파이선 소개 [[유튜브]](https://www.youtube.com/) [[노트북]](https://colab.research.google.com/drive/1fODAFBnpeu1dOgvf2p0PQP6m8b7o-cYO?usp=sharing)\n",
        "* 2편: 파이선 Lists, Dictionaries, Sets and JSON [[유튜브]](https://www.youtube.com/)[[노트북]](https://colab.research.google.com/drive/1IqjyoGLFeEdDFuPQ1yMA018Zz9DWuCkA#scrollTo=WD4GqdT54rya)\n",
        "* 3편: 파일 다루기 [[유튜브]](https://www.youtube.com/) [[노트북]](https://colab.research.google.com/drive/1Y3ZJdgpCNWHAXaomuJfWHxB2F29-cbll#scrollTo=jUvasDTQcVQo)\n",
        "* 4편: **함수, 람다, Map/Reduce** [[유튜브]](https://www.youtube.com/) [[노트북]](t81_558_class_01_5_python_functional.ipynb)"
      ]
    },
    {
      "cell_type": "markdown",
      "metadata": {
        "id": "Lwp1_liz4rya"
      },
      "source": [
        "# Google CoLab 명령\n",
        "\n",
        "Colab이 올바른 버전인지 확인합니다"
      ]
    },
    {
      "cell_type": "code",
      "metadata": {
        "id": "b5EL1EjJ4rya",
        "colab": {
          "base_uri": "https://localhost:8080/"
        },
        "outputId": "2e00924a-f985-4fcc-857b-00e1c73486db"
      },
      "source": [
        "try:\n",
        "    from google.colab import drive\n",
        "    %tensorflow_version 2.x\n",
        "    COLAB = True\n",
        "    print(\"Note: using Google CoLab\")\n",
        "    \n",
        "except:\n",
        "    print(\"Note: not using Google CoLab\")\n",
        "    COLAB = False"
      ],
      "execution_count": null,
      "outputs": [
        {
          "output_type": "stream",
          "text": [
            "Note: using Google CoLab\n"
          ],
          "name": "stdout"
        }
      ]
    },
    {
      "cell_type": "markdown",
      "metadata": {
        "id": "oTBaJ6ZM4ryb"
      },
      "source": [
        "# 2편: 파이썬 list, dictionary, set 및 JSON\n",
        "대부분의 최신 프로그래밍 언어와 마찬가지로 Python은 list, dictionary, set 등의 데이터 구조를 가집니다. 이것들은 JSON이라는 자바스크립트의 컬렉션과 유사합니다. Python과 JSON 호환성은이 나중에 설명합니다. \n",
        "\n",
        "List-List은 파이썬이 이름과 값 쌍으로 인덱싱하는 변경 가능한 순서가 있는 컬렉션입니다\n",
        "\n",
        "Dictionary-Dictionary는 중복 요소를 허용하는 변경 가능한 순서가 없는 컬렉션입니다.\n",
        "\n",
        "Set-Set는 중복 요소가없는 변경 가능한 순서가 없는 콜렉션입니다.\n",
        "\n",
        "대부분의 Python 컬렉션은 변경 가능하므로 프로그램이 나중에 요소를 추가하고 제거 할 수 있습니다. 순서가 있는 경우에 이 순서를 유지하는게 중요합니다. 이 순서는 알파벳 또는 숫자의 순서와 다릅니다."
      ]
    },
    {
      "cell_type": "code",
      "metadata": {
        "id": "KYyQqxjX4ryi",
        "colab": {
          "base_uri": "https://localhost:8080/"
        },
        "outputId": "73613542-4aaf-46ca-a45e-83255399d563"
      },
      "source": [
        "l = ['a', 'b', 'c', 'd']\n",
        "\n",
        "print(l)"
      ],
      "execution_count": null,
      "outputs": [
        {
          "output_type": "stream",
          "text": [
            "['a', 'b', 'c', 'd']\n"
          ],
          "name": "stdout"
        }
      ]
    },
    {
      "cell_type": "markdown",
      "metadata": {
        "id": "PZ1Cp88C4ryj"
      },
      "source": [
        "이 코드는 인덱스가 0에서 시작한다는 것을 보여줍니다. 인덱스 1을 쓰면 컬렉션의 두 번째 요소가 수정됩니다. "
      ]
    },
    {
      "cell_type": "code",
      "metadata": {
        "id": "EfhmBcaB4ryj",
        "colab": {
          "base_uri": "https://localhost:8080/"
        },
        "outputId": "9b8482ff-90e2-4a87-ae56-c046cea2199a"
      },
      "source": [
        "l[1] = 'changed'\n",
        "\n",
        "print(l)"
      ],
      "execution_count": null,
      "outputs": [
        {
          "output_type": "stream",
          "text": [
            "['a', 'changed', 'c', 'd']\n"
          ],
          "name": "stdout"
        }
      ]
    },
    {
      "cell_type": "markdown",
      "metadata": {
        "id": "lsT18sWz4ryj"
      },
      "source": [
        "for-each 명령을 사용하면 각 요소의 내용에 대한 루프를 돌릴 수 있습니다."
      ]
    },
    {
      "cell_type": "code",
      "metadata": {
        "id": "gWUIgfy44ryk",
        "colab": {
          "base_uri": "https://localhost:8080/"
        },
        "outputId": "721fe3ec-bc7d-43c5-a683-168cd09d2768"
      },
      "source": [
        "# Iterate over a collection.\n",
        "for s in l:\n",
        "    print(s)"
      ],
      "execution_count": null,
      "outputs": [
        {
          "output_type": "stream",
          "text": [
            "a\n",
            "changed\n",
            "c\n",
            "d\n"
          ],
          "name": "stdout"
        }
      ]
    },
    {
      "cell_type": "markdown",
      "metadata": {
        "id": "EeWgdfrCUMAM"
      },
      "source": [
        "\n",
        "**enumerate** 함수를 이용하면 인덱스를 알아낼 수 있습니다."
      ]
    },
    {
      "cell_type": "code",
      "metadata": {
        "id": "e0Q7Cc7zUacE",
        "colab": {
          "base_uri": "https://localhost:8080/"
        },
        "outputId": "655c3583-1457-4c29-a3b4-5164eff79478"
      },
      "source": [
        "# Iterate over a collection, and know where your index.  (Python is zero-based!)\n",
        "for i,l in enumerate(l):\n",
        "    print(f\"{i}:{l}\")"
      ],
      "execution_count": null,
      "outputs": [
        {
          "output_type": "stream",
          "text": [
            "0:a\n",
            "1:changed\n",
            "2:c\n",
            "3:d\n"
          ],
          "name": "stdout"
        }
      ]
    },
    {
      "cell_type": "markdown",
      "metadata": {
        "id": "c_vieww24ryk"
      },
      "source": [
        "**list** 에는 새로운 요소를 추가할 수 있습니다. 동일한 내용을 중복으로 넣을 수도 있습니다."
      ]
    },
    {
      "cell_type": "code",
      "metadata": {
        "id": "r9J1Xvu24ryl",
        "colab": {
          "base_uri": "https://localhost:8080/"
        },
        "outputId": "49c62674-5394-481c-e04f-c00e617def6c"
      },
      "source": [
        "# Manually add items, lists allow duplicates\n",
        "c = []\n",
        "c.append('a')\n",
        "c.append('b')\n",
        "c.append('c')\n",
        "c.append('c')\n",
        "print(c)"
      ],
      "execution_count": null,
      "outputs": [
        {
          "output_type": "stream",
          "text": [
            "['a', 'b', 'c', 'c']\n"
          ],
          "name": "stdout"
        }
      ]
    },
    {
      "cell_type": "markdown",
      "metadata": {
        "id": "0KCxAymr4ryl"
      },
      "source": [
        "목록처럼 컬렉션을 사용하면 다음 코드처럼 인덱스로 요소에 액세스 할 수 있습니다. list나 set 같은 순서가 없는 컬렉션은 프로그램이 이렇게 액세스할수 없습니다."
      ]
    },
    {
      "cell_type": "code",
      "metadata": {
        "id": "hREPWsG44ryl",
        "colab": {
          "base_uri": "https://localhost:8080/"
        },
        "outputId": "9d09fd8b-3810-41b7-c643-e977d1cd6e79"
      },
      "source": [
        "print(c[1])"
      ],
      "execution_count": null,
      "outputs": [
        {
          "output_type": "stream",
          "text": [
            "b\n"
          ],
          "name": "stdout"
        }
      ]
    },
    {
      "cell_type": "markdown",
      "metadata": {
        "id": "MnW_WFnp4ryl"
      },
      "source": [
        "\n",
        "**list**에는 문자열등 여러 요소가 추가 될 수 있습니다. 중복이 ​​허용됩니다. 삽입 함수 인 색인의 경우 프로그래머는 색인을 지정해야합니다."
      ]
    },
    {
      "cell_type": "code",
      "metadata": {
        "id": "HErBoyO64rym",
        "colab": {
          "base_uri": "https://localhost:8080/"
        },
        "outputId": "e7247df6-8d0b-4f42-f111-b1950f2ceace"
      },
      "source": [
        "# Insert\n",
        "c = ['a', 'b', 'c']\n",
        "c.insert(0, 'a0')\n",
        "print(c)\n",
        "# Remove\n",
        "c.remove('b')\n",
        "print(c)\n",
        "# Remove at index\n",
        "del c[0]\n",
        "print(c)"
      ],
      "execution_count": null,
      "outputs": [
        {
          "output_type": "stream",
          "text": [
            "['a0', 'a', 'b', 'c']\n",
            "['a0', 'a', 'c']\n",
            "['a', 'c']\n"
          ],
          "name": "stdout"
        }
      ]
    },
    {
      "cell_type": "markdown",
      "metadata": {
        "id": "1fPqrj094rym"
      },
      "source": [
        "### Set\n",
        "\n",
        "Python **set**은 수학의 집합(set)처럼 순서도 없고 중복을 허용하지 않습니다. 프로그램이 **set**에 중복 항목을 추가하는 경우 각 항목의 사본 하나만 남습니다. 세트에 중복 항목을 추가해도 오류가 발생하지 않습니다."
      ]
    },
    {
      "cell_type": "code",
      "metadata": {
        "id": "txzyxVXi4rym",
        "colab": {
          "base_uri": "https://localhost:8080/"
        },
        "outputId": "c6383066-9e34-4235-a1e3-f4275697224b"
      },
      "source": [
        "s = set()\n",
        "s = { 'a', 'b', 'c'}\n",
        "s = set(['a', 'b', 'c'])\n",
        "print(s)"
      ],
      "execution_count": null,
      "outputs": [
        {
          "output_type": "stream",
          "text": [
            "{'a', 'b', 'c'}\n"
          ],
          "name": "stdout"
        }
      ]
    },
    {
      "cell_type": "markdown",
      "metadata": {
        "id": "7ovx5yQx4rym"
      },
      "source": [
        "**list**는 항상 대괄호 []로 묶여 있으며, **set**은 중괄호로 묶습니다. **add**를 사용하여 항목을 **set**에 수시로 추가 할 수 있습니다. **append** 함수는 목록에 항목을 추가하는 반면 **add** 함수는 집합에 항목을 추가한다는 점이 다릅니다."
      ]
    },
    {
      "cell_type": "code",
      "metadata": {
        "id": "hXJ4CnA14rym",
        "colab": {
          "base_uri": "https://localhost:8080/"
        },
        "outputId": "0a6795b9-6d01-4b4f-aafd-14c0a9a0a5e9"
      },
      "source": [
        "# Manually add items, sets do not allow duplicates\n",
        "# Sets add, lists append.  I find this annoying.\n",
        "c = set()\n",
        "c.add('a')\n",
        "c.add('b')\n",
        "c.add('c')\n",
        "c.add('c')\n",
        "print(c)"
      ],
      "execution_count": null,
      "outputs": [
        {
          "output_type": "stream",
          "text": [
            "{'a', 'b', 'c'}\n"
          ],
          "name": "stdout"
        }
      ]
    },
    {
      "cell_type": "markdown",
      "metadata": {
        "id": "m1fwm2S04ryn"
      },
      "source": [
        "## Maps/Dictionaries/Hash Tables\n",
        "\n",
        "\n",
        "여러 프로그래밍 언어에는 맵, 사전 또는 해시 테이블의 개념이 있습니다. 이것들은 모두 비슷한 개념입니다. 파이썬은 이름-값 쌍의 모음인 사전을 제공합니다. 여기에서 볼 수 있듯이 중괄호를 사용하여 사전을 표시합니다."
      ]
    },
    {
      "cell_type": "code",
      "metadata": {
        "id": "cuTIE_Z64ryn",
        "colab": {
          "base_uri": "https://localhost:8080/"
        },
        "outputId": "9a10abf9-997f-496f-b352-d139fa5062e0"
      },
      "source": [
        "d = {'name': \"Jeff\", 'address':\"123 Main\"}\n",
        "print(d)\n",
        "print(d['name'])\n",
        "\n",
        "if 'name' in d:\n",
        "    print(\"Name is defined\")\n",
        "\n",
        "if 'age' in d:\n",
        "    print(\"age defined\")\n",
        "else:\n",
        "    print(\"age undefined\")"
      ],
      "execution_count": null,
      "outputs": [
        {
          "output_type": "stream",
          "text": [
            "{'name': 'Jeff', 'address': '123 Main'}\n",
            "Jeff\n",
            "Name is defined\n",
            "age undefined\n"
          ],
          "name": "stdout"
        }
      ]
    },
    {
      "cell_type": "markdown",
      "metadata": {
        "id": "oxaYC5EM4ryo"
      },
      "source": [
        "\n",
        "정의되지 않은 키에 액세스하지 않도록 주의하십시오. 위에서처럼 키가 정의되어 있는지 확인할 수 있습니다. 다음 코드가 보여 주듯이 디렉토리에 액세스하고 기본값을 제공 할 수도 있습니다."
      ]
    },
    {
      "cell_type": "code",
      "metadata": {
        "id": "KVE8zN4S4ryo",
        "colab": {
          "base_uri": "https://localhost:8080/",
          "height": 35
        },
        "outputId": "23e59eff-a638-493c-a308-0af35400d56e"
      },
      "source": [
        "d.get('unknown_key', 'default')"
      ],
      "execution_count": null,
      "outputs": [
        {
          "output_type": "execute_result",
          "data": {
            "application/vnd.google.colaboratory.intrinsic+json": {
              "type": "string"
            },
            "text/plain": [
              "'default'"
            ]
          },
          "metadata": {
            "tags": []
          },
          "execution_count": 18
        }
      ]
    },
    {
      "cell_type": "markdown",
      "metadata": {
        "id": "OpPo96Wm4ryo"
      },
      "source": [
        "각각의 키와 값을 볼 수도 있습니다."
      ]
    },
    {
      "cell_type": "code",
      "metadata": {
        "id": "_sLCTbEU4ryo",
        "colab": {
          "base_uri": "https://localhost:8080/"
        },
        "outputId": "baaf254b-bb8d-4b1a-8262-d7ebf4119429"
      },
      "source": [
        "d = {'name': \"Jeff\", 'address':\"123 Main\"}\n",
        "# All of the keys\n",
        "print(f\"Key: {d.keys()}\")\n",
        "\n",
        "# All of the values\n",
        "print(f\"Values: {d.values()}\")"
      ],
      "execution_count": null,
      "outputs": [
        {
          "output_type": "stream",
          "text": [
            "Key: dict_keys(['name', 'address'])\n",
            "Values: dict_values(['Jeff', '123 Main'])\n"
          ],
          "name": "stdout"
        }
      ]
    },
    {
      "cell_type": "markdown",
      "metadata": {
        "id": "5eJLkJxC4ryo"
      },
      "source": [
        "사전과 목록을 결합 할 수 있습니다. 이 코드는 [JSON] (https://en.wikipedia.org/wiki/JSON)과 밀접한 관련이 있습니다. 사전과 목록을 합하면 매우 복잡한 데이터 구조를 구축 할 수 있습니다. Python은 문자열에 큰 따옴표 ( \")와 작은따움표 모두 ( ')를 허용하지만 JSON은 큰 따옴표 (\") 만 허용합니다. 뒷부분에서 JSON을 훨씬 더 자세히 다룰 것입니다.\n",
        "\n",
        "다음 코드는 사전과 목록의 결합 사용법을 보여줍니다."
      ]
    },
    {
      "cell_type": "code",
      "metadata": {
        "id": "7YcBzW3O4ryp",
        "colab": {
          "base_uri": "https://localhost:8080/"
        },
        "outputId": "d01972ec-a94a-4061-8299-4dd0b62eb104"
      },
      "source": [
        "# Python list & map structures\n",
        "customers = [\n",
        "    {\"name\": \"Jeff & Tracy Heaton\", \"pets\": [\"Wynton\", \"Cricket\", \n",
        "        \"Hickory\"]},\n",
        "    {\"name\": \"John Smith\", \"pets\": [\"rover\"]},\n",
        "    {\"name\": \"Jane Doe\"}\n",
        "]\n",
        "\n",
        "print(customers)\n",
        "\n",
        "for customer in customers:\n",
        "    print(f\"{customer['name']}:{customer.get('pets', 'no pets')}\")"
      ],
      "execution_count": null,
      "outputs": [
        {
          "output_type": "stream",
          "text": [
            "[{'name': 'Jeff & Tracy Heaton', 'pets': ['Wynton', 'Cricket', 'Hickory']}, {'name': 'John Smith', 'pets': ['rover']}, {'name': 'Jane Doe'}]\n",
            "Jeff & Tracy Heaton:['Wynton', 'Cricket', 'Hickory']\n",
            "John Smith:['rover']\n",
            "Jane Doe:no pets\n"
          ],
          "name": "stdout"
        }
      ]
    },
    {
      "cell_type": "markdown",
      "metadata": {
        "id": "OEF6AVXL4ryp"
      },
      "source": [
        "**customers** 변수는 고객을 나타내는 3 개의 dictionary가 포함된 list입니다. 이러한  dictionary를 table의 record로 생각할 수 있습니다. 항목의 이름(key)과 그 내용으로 만들어진 쌍을 record라 합니다. 이들이 모이면 table이라 합니다. 여기서 **name** 와 **pets** 키는 필드입니다. 그러나 **pets** field(내용)은 애완 동물 이름이 포함된 **list** 입니다. 목록과 맵을 중첩하기 위해 선택할 수있는 깊이에는 제한이 없습니다. 맵 내부에 맵을 중첩하거나 다른 목록 내부에 목록을 중첩 할 수도 있습니다."
      ]
    },
    {
      "cell_type": "markdown",
      "metadata": {
        "id": "p_CIIPFNp0tR"
      },
      "source": [
        "### JSON 소개\n",
        "\n",
        "고객데이터를 컴퓨터 화일에 저장한다고 생각해 봅시다. 흔히 엑셀같은 스프레드시트를 써서 표준 형식인 CSV파일로 저장합니다. 그런데 CSV 파일에 저장된 데이터는 단순해야합니다. 행과 열의 갯수가 다 같아야합니다. 이러한 유형의 데이터를 구조적 또는 표 형식이라고합니다. 엑셀 데이터는 모든 행의 열 수가 동일하기 때문에 표 형식입니다. 개별 행에 열 값이 누락 될 수 있습니다. 그러나 각 행에는 여전히 동일한 열이 있습니다.\n",
        "\n",
        "신경망과 같은 대부분의 모델도 입력 데이터가 모두 같은 차원이기 때문에 기계 학습에 편리합니다. 실제 정보가 항상 표 형식은 아닙니다. 고객ㅈㅓ옵를 봅시다. 한 사람이 여러개의 전화 번호와 주소를 가지고있을 수 있습니다. 열의 수가 일정하면 이런 데이터는 취급하기 힘들게 됩니다. 그런 이유로 열의 수가 신축적으로 변하면서 계층적인 데이터 형식을 사용하게 되었습니다. \n",
        "\n",
        "JSON (JavaScript Object Notation)은 XML (eXtensible Markup Language)와 비슷하게 계층적 형식으로 데이터를 저장하는 표준 파일 형식입니다. JSON은 **list**와 **dictionary**의 계층에 지나지 않습니다. 프로그래머는 이러한 종류의 데이터를 반구조화 된 데이터 또는 계층적 데이터라고합니다. 다음은 샘플 JSON 파일입니다.\n",
        "\n",
        "```\n",
        "{\n",
        "  \"firstName\": \"John\",\n",
        "  \"lastName\": \"Smith\",\n",
        "  \"isAlive\": true,\n",
        "  \"age\": 27,\n",
        "  \"address\": {\n",
        "    \"streetAddress\": \"21 2nd Street\",\n",
        "    \"city\": \"New York\",\n",
        "    \"state\": \"NY\",\n",
        "    \"postalCode\": \"10021-3100\"\n",
        "  },\n",
        "  \"phoneNumbers\": [\n",
        "    {\n",
        "      \"type\": \"home\",\n",
        "      \"number\": \"212 555-1234\"\n",
        "    },\n",
        "    {\n",
        "      \"type\": \"office\",\n",
        "      \"number\": \"646 555-4567\"\n",
        "    },\n",
        "    {\n",
        "      \"type\": \"mobile\",\n",
        "      \"number\": \"123 456-7890\"\n",
        "    }\n",
        "  ],\n",
        "  \"children\": [],\n",
        "  \"spouse\": null\n",
        "}\n",
        "```\n",
        "\n",
        "Python 코드 비슷하게 보이지 않나요? **dictionary**를 정의하는 {...}와 **list**를 정의하는 [...]를 볼 수 있습니다. JSON에는 단일 루트 요소가 있어야합니다. 목록이나 사전이이 역할을 수행 할 수 있습니다. JSON은 문자열과 이름을 묶기 위해 큰 따옴표(\"...\")가 필요합니다. JSON에서는 작은 따옴표('...')를 사용할 수 없습니다.\n",
        "\n",
        "JSON 파일은 JavaScript 문법에 맞게 만들어 졌습니다. 다음 Python 프로그램에서 보여주는 것처럼 보통은 Python 코드 문법에도 맞습니다."
      ]
    },
    {
      "cell_type": "code",
      "metadata": {
        "id": "IYr-RB5mp6u1"
      },
      "source": [
        "jsonHardCoded = {\n",
        "  \"firstName\": \"John\",\n",
        "  \"lastName\": \"Smith\",\n",
        "  \"isAlive\": True,\n",
        "  \"age\": 27,\n",
        "  \"address\": {\n",
        "    \"streetAddress\": \"21 2nd Street\",\n",
        "    \"city\": \"New York\",\n",
        "    \"state\": \"NY\",\n",
        "    \"postalCode\": \"10021-3100\"\n",
        "  },\n",
        "  \"phoneNumbers\": [\n",
        "    {\n",
        "      \"type\": \"home\",\n",
        "      \"number\": \"212 555-1234\"\n",
        "    },\n",
        "    {\n",
        "      \"type\": \"office\",\n",
        "      \"number\": \"646 555-4567\"\n",
        "    },\n",
        "    {\n",
        "      \"type\": \"mobile\",\n",
        "      \"number\": \"123 456-7890\"\n",
        "    }\n",
        "  ],\n",
        "  \"children\": [],\n",
        "  \"spouse\": None\n",
        "}"
      ],
      "execution_count": null,
      "outputs": []
    },
    {
      "cell_type": "markdown",
      "metadata": {
        "id": "_jPlbnUJ30oy"
      },
      "source": [
        "실제로는 이처럼 일일히 직접 코딩하지않고  파일, 문자열 또는 인터넷에서 JSON을 읽어오는 것이 좋습니다. 그러나 프로그램 내부에서만 쓰이는 데이터 구조의 경우 때때로 이런 방법이 유용할 수 있습니다.\n",
        "\n",
        "Python에는 JSON에 대한 지원하는 기능이 포함되어 있습니다. Python 프로그램에 JSON을 로드하면 다음 예와 같이 **root list**, 혹은 **dictionary**를 돌려줍니다."
      ]
    },
    {
      "cell_type": "code",
      "metadata": {
        "id": "wENjQVFi5grl"
      },
      "source": [
        "import json\n",
        "\n",
        "json_string = '{\"first\":\"Jeff\",\"last\":\"Heaton\"}'\n",
        "obj = json.loads(json_string)\n",
        "print(f\"First name: {obj['first']}\")\n",
        "print(f\"Last name: {obj['last']}\")"
      ],
      "execution_count": null,
      "outputs": []
    },
    {
      "cell_type": "markdown",
      "metadata": {
        "id": "pLbzMNbM5jdS"
      },
      "source": [
        "파일에서 불러오거나 인터넷 **url**에서 직접 가져올 수도 있습니다."
      ]
    },
    {
      "cell_type": "code",
      "metadata": {
        "id": "EsxnL8zq6cjT"
      },
      "source": [
        "import requests\n",
        "\n",
        "r = requests.get(\"https://raw.githubusercontent.com/jeffheaton/\"\n",
        "                 +\"t81_558_deep_learning/master/person.json\")\n",
        "print(r.json())"
      ],
      "execution_count": null,
      "outputs": []
    },
    {
      "cell_type": "markdown",
      "metadata": {
        "id": "ZJwx3ykq6lLv"
      },
      "source": [
        "반대로 파이썬의 **list**나 **dictionary**로부터 JSON 문자열을 쉽게 만들 수 있습니다."
      ]
    },
    {
      "cell_type": "code",
      "metadata": {
        "id": "DlOXLYVH7DHJ"
      },
      "source": [
        "python_obj = {\"first\":\"Jeff\",\"last\":\"Heaton\"}\n",
        "print(json.dumps(python_obj))"
      ],
      "execution_count": null,
      "outputs": []
    },
    {
      "cell_type": "markdown",
      "metadata": {
        "id": "alp0M49x7QZW"
      },
      "source": [
        "데이터과학자들이 데이터를 얻기 위해 웹 서비스에 액세스 할 때 흔히 JSON을 접하게됩니다. 여기 보여준 방법들을 사용하여 딥러닝, 머신러닝 등에서 쓰일 수 있도록 JSON 데이터를 표 형식 데이터로 변환 할 수 있습니다."
      ]
    }
  ]
}