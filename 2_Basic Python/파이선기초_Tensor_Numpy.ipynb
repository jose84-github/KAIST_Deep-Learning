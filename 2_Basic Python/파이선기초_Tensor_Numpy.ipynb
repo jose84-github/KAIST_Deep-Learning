{
  "nbformat": 4,
  "nbformat_minor": 0,
  "metadata": {
    "anaconda-cloud": {},
    "kernelspec": {
      "display_name": "Python 3.6 (tensorflow)",
      "language": "python",
      "name": "tensorflow"
    },
    "language_info": {
      "codemirror_mode": {
        "name": "ipython",
        "version": 3
      },
      "file_extension": ".py",
      "mimetype": "text/x-python",
      "name": "python",
      "nbconvert_exporter": "python",
      "pygments_lexer": "ipython3",
      "version": "3.7.7"
    },
    "colab": {
      "name": "파이선기초_Tensor_Numpy.ipynb",
      "provenance": [],
      "collapsed_sections": []
    }
  },
  "cells": [
    {
      "cell_type": "markdown",
      "metadata": {
        "id": "DZ-5Mwql4ryY"
      },
      "source": [
        "<a href=\"https://colab.research.google.com/drive/1IqjyoGLFeEdDFuPQ1yMA018Zz9DWuCkA#scrollTo=DZ-5Mwql4ryY\" target=\"_parent\"><img src=\"https://colab.research.google.com/assets/colab-badge.svg\" alt=\"Open In Colab\"/></a>"
      ]
    },
    {
      "cell_type": "markdown",
      "metadata": {
        "id": "WEiDqjSm4ryZ"
      },
      "source": [
        "# AI는 내 친구: 왕초보의 인공지능 코딩\n",
        "**파이선 기초**\n",
        "* 담당교수: [오종훈](https://www.business.kaist.ac.kr/faculty/johnoh),  [정보미디어경영대학원](https://www.business.kaist.ac.kr/ksim/), [KAIST 경영대학](https://www.business.kaist.ac.kr/)\n",
        "* 더 많은 정보는 AI는 내친구 공식사이트를 방문하세요 [myfriendis.ai](https://myfriendis.ai).\n",
        "*이 강의는 미국 와싱턴대학의 [Jeff Heaton 교수의 강의](https://colab.research.google.com/github/jeffheaton/t81_558_deep_learning/blob/master/t81_558_class_01_2_intro_python.ipynb)를 참조하여 만든 것입니다."
      ]
    },
    {
      "cell_type": "markdown",
      "metadata": {
        "id": "WD4GqdT54rya"
      },
      "source": [
        "# 파이선 기초\n",
        "\n",
        "* 1편: 파이선 소개 [[유튜브]](https://www.youtube.com/) [[노트북]](https://colab.research.google.com/drive/1fODAFBnpeu1dOgvf2p0PQP6m8b7o-cYO?usp=sharing)\n",
        "* 2편: 파이선 Lists, Dictionaries, Sets and JSON [[유튜브]](https://www.youtube.com/)[[노트북]](https://colab.research.google.com/drive/1IqjyoGLFeEdDFuPQ1yMA018Zz9DWuCkA#scrollTo=WD4GqdT54rya)\n",
        "* 2-1편: **파이선 Numpy와 텐서** [[유튜브]](https://www.youtube.com/channel/UCgYEDLbAcP26PjuOGebu05A)[[노트북]](https://colab.research.google.com/drive/1QgRQ_JBgkFSklFzsCj2VAtqrJVNpor91#scrollTo=WD4GqdT54rya)\n",
        "* 3편: 파일 다루기 [[유튜브]](https://www.youtube.com/) [[노트북]](https://colab.research.google.com/drive1Y3ZJdgpCNWHAXaomuJfWHxB2F29-cbll#scrollTo=jUvasDTQcVQo)\n",
        "* 4편: 함수, 람다, Map/Reduce [[유튜브]](https://www.youtube.com/) [[노트북]](t81_558_class_01_5_python_functional.ipynb)"
      ]
    },
    {
      "cell_type": "markdown",
      "metadata": {
        "id": "Lwp1_liz4rya"
      },
      "source": [
        "# Google CoLab 명령\n",
        "\n",
        "Colab이 올바른 버전인지 확인합니다"
      ]
    },
    {
      "cell_type": "code",
      "metadata": {
        "id": "b5EL1EjJ4rya",
        "colab": {
          "base_uri": "https://localhost:8080/"
        },
        "outputId": "dc6a6ae3-980f-477e-f432-1bdd4816298e"
      },
      "source": [
        "try:\n",
        "    from google.colab import drive\n",
        "    COLAB = True\n",
        "    print(\"Note: using Google CoLab\")\n",
        "    \n",
        "except:\n",
        "    print(\"Note: not using Google CoLab\")\n",
        "    COLAB = False"
      ],
      "execution_count": null,
      "outputs": [
        {
          "output_type": "stream",
          "text": [
            "Note: using Google CoLab\n"
          ],
          "name": "stdout"
        }
      ]
    },
    {
      "cell_type": "markdown",
      "metadata": {
        "id": "oTBaJ6ZM4ryb"
      },
      "source": [
        "# 2-1편: Tensor와 Numpy \n",
        "현재의 모든 머신 러닝 시스템은 텐서를 기본 데이터 구조로 사용합니다. 이분야에서 텐서가 워낙 중요하므로  그 이름을 따서 텐서플로우가 명명되었습니다. 그러면 텐서란 무엇일까요? \n",
        "텐서는 데이터(일반적으로 숫자 데이터)를 여러 개 담기 위한 위한 컨테이너입니다. 행렬에 대해 들어본 사람들도 있을 것입니다. 행렬은 랭크 2인 텐서입니다. 텐서는 행렬을 임의의 차원으로 일반화한 것입니다. Mumpy는 텐서들을 쉽게 계산할 수 있는 파이선 라이브래리입니다."
      ]
    },
    {
      "cell_type": "code",
      "metadata": {
        "id": "KYyQqxjX4ryi"
      },
      "source": [
        "import numpy as np\n"
      ],
      "execution_count": null,
      "outputs": []
    },
    {
      "cell_type": "code",
      "metadata": {
        "colab": {
          "base_uri": "https://localhost:8080/"
        },
        "id": "GmsZ_iigEQRu",
        "outputId": "61d9aefb-4b89-47cb-d7bc-564bb8fa3499"
      },
      "source": [
        "x = np.array(12)\n",
        "x"
      ],
      "execution_count": null,
      "outputs": [
        {
          "output_type": "execute_result",
          "data": {
            "text/plain": [
              "array(12)"
            ]
          },
          "metadata": {
            "tags": []
          },
          "execution_count": 58
        }
      ]
    },
    {
      "cell_type": "code",
      "metadata": {
        "colab": {
          "base_uri": "https://localhost:8080/"
        },
        "id": "tsEBqml9Ee4f",
        "outputId": "5b6997fd-9aa5-4729-f68a-a91f9a46c144"
      },
      "source": [
        "x.ndim"
      ],
      "execution_count": null,
      "outputs": [
        {
          "output_type": "execute_result",
          "data": {
            "text/plain": [
              "0"
            ]
          },
          "metadata": {
            "tags": []
          },
          "execution_count": 59
        }
      ]
    },
    {
      "cell_type": "markdown",
      "metadata": {
        "id": "PZ1Cp88C4ryj"
      },
      "source": [
        "# Vectors (rank-1 tensors)"
      ]
    },
    {
      "cell_type": "code",
      "metadata": {
        "id": "EfhmBcaB4ryj",
        "colab": {
          "base_uri": "https://localhost:8080/"
        },
        "outputId": "04aae5e7-59a4-4a9c-ad0d-eb5669f6d068"
      },
      "source": [
        "x = np.array([12, 3, 6, 14])\n",
        "x"
      ],
      "execution_count": null,
      "outputs": [
        {
          "output_type": "execute_result",
          "data": {
            "text/plain": [
              "array([12,  3,  6, 14])"
            ]
          },
          "metadata": {
            "tags": []
          },
          "execution_count": 60
        }
      ]
    },
    {
      "cell_type": "markdown",
      "metadata": {
        "id": "lsT18sWz4ryj"
      },
      "source": [
        "Rank를 알아봅니다."
      ]
    },
    {
      "cell_type": "code",
      "metadata": {
        "id": "gWUIgfy44ryk",
        "colab": {
          "base_uri": "https://localhost:8080/"
        },
        "outputId": "ece4e520-5d38-40bf-a05c-ec1383919748"
      },
      "source": [
        "x.ndim"
      ],
      "execution_count": null,
      "outputs": [
        {
          "output_type": "execute_result",
          "data": {
            "text/plain": [
              "1"
            ]
          },
          "metadata": {
            "tags": []
          },
          "execution_count": 61
        }
      ]
    },
    {
      "cell_type": "markdown",
      "metadata": {
        "id": "XctB8pDWjamG"
      },
      "source": [
        "벡터의 합과 내적(dot product, inner product)을 계산해 봅니다."
      ]
    },
    {
      "cell_type": "code",
      "metadata": {
        "id": "n_atocEvkBGu"
      },
      "source": [
        "y = np.array([1,2,2])\n"
      ],
      "execution_count": null,
      "outputs": []
    },
    {
      "cell_type": "markdown",
      "metadata": {
        "id": "AFm4MC8vjxy9"
      },
      "source": [
        ""
      ]
    },
    {
      "cell_type": "markdown",
      "metadata": {
        "id": "EeWgdfrCUMAM"
      },
      "source": [
        "but the ambiguous notation 5D tensor is common regardless.이 벡터에는 5 개의 요소가 있으므로 5 차원 벡터라고합니다. 5차원 벡터를 5차원 텐서와 혼동하지 마십시오! 5차원 벡터에는 축이 하나만 있고 축을 따라 5개의 차원이있는 반면 5차원 텐서는 5개의 축이 있습니다 (각 축을 따라 여러 차원이있을 수 있음). 차원은 특정축(5D 벡터의 경우와 같이)방향의 항목 수 또는 텐서 (예 : 5차원 텐서)의 축 수를 나타낼 수 있으며 이는 때때로 혼동 될 수 있습니다. 후자의 경우, 기술적으로 rank 5 (텐서의 순위는 축의 수)의 텐서라고 이야기하는 것이 더 정확하지만 5차원 텐서라는 말도 많이 씁니다."
      ]
    },
    {
      "cell_type": "markdown",
      "metadata": {
        "id": "x4EPwRFXJsoE"
      },
      "source": [
        "# Matrices (rank-2 tensors)\n",
        "벡터 배열은 행렬, 랭크-2 텐서 또는 2D 텐서입니다. 행렬에는 두 개의 축(흔히 행과 열을 참조)이 있습니다. 행렬을 직사각형 숫자 그리드로 시각적으로 해석할 수 있습니다. NumPy 행렬입니다."
      ]
    },
    {
      "cell_type": "code",
      "metadata": {
        "colab": {
          "base_uri": "https://localhost:8080/"
        },
        "id": "24GKu72-J_Pw",
        "outputId": "eefad9cf-e0aa-49e0-d075-7be72c08d145"
      },
      "source": [
        "x = np.array([[5, 78, 2, 34, 0],\n",
        "          [6, 79, 3, 35, 1],\n",
        "          [7, 80, 4, 36, 2]])\n",
        "print(x)\n",
        "x.ndim"
      ],
      "execution_count": null,
      "outputs": [
        {
          "output_type": "stream",
          "text": [
            "[[ 5 78  2 34  0]\n",
            " [ 6 79  3 35  1]\n",
            " [ 7 80  4 36  2]]\n"
          ],
          "name": "stdout"
        },
        {
          "output_type": "execute_result",
          "data": {
            "text/plain": [
              "2"
            ]
          },
          "metadata": {
            "tags": []
          },
          "execution_count": 63
        }
      ]
    },
    {
      "cell_type": "markdown",
      "metadata": {
        "id": "1ZR3p6CpKrC3"
      },
      "source": [
        "첫 번째 축의 항목을 행이라고 하고 두 번째 축의 항목을 열이라고 합니다. 앞의 예제에서 [5, 78, 2, 34, 0]은 x의 첫 번째 행이고 [5, 6, 7]은 첫 번째 열입니다."
      ]
    },
    {
      "cell_type": "markdown",
      "metadata": {
        "id": "ihI9Cjr6KqvV"
      },
      "source": [
        "# Rank-3 tensors and higher-rank tensors\n",
        "이러한 행렬을 다시 겹겹으로 쌓으면 숫자의 큐브로 시각적으로 볼 수있는 랭크 3 텐서 (또는 3D 텐서)가 생성됩니다. 다음은 NumPy Rank 3 텐서입니다."
      ]
    },
    {
      "cell_type": "code",
      "metadata": {
        "colab": {
          "base_uri": "https://localhost:8080/"
        },
        "id": "mRvqA03RVTtN",
        "outputId": "7656febb-9d1b-46a5-aa59-0add85fb26ea"
      },
      "source": [
        "x = np.array([[[5, 78, 2, 34, 0],\n",
        "               [6, 79, 3, 35, 1],\n",
        "               [7, 80, 4, 36, 2]],\n",
        "              [[5, 78, 2, 34, 0],\n",
        "               [6, 79, 3, 35, 1],\n",
        "               [7, 80, 4, 36, 2]],\n",
        "              [[5, 78, 2, 34, 0],\n",
        "               [6, 79, 3, 35, 1],\n",
        "               [7, 80, 4, 36, 2]]])\n",
        "print(x)\n",
        "x.ndim"
      ],
      "execution_count": null,
      "outputs": [
        {
          "output_type": "stream",
          "text": [
            "[[[ 5 78  2 34  0]\n",
            "  [ 6 79  3 35  1]\n",
            "  [ 7 80  4 36  2]]\n",
            "\n",
            " [[ 5 78  2 34  0]\n",
            "  [ 6 79  3 35  1]\n",
            "  [ 7 80  4 36  2]]\n",
            "\n",
            " [[ 5 78  2 34  0]\n",
            "  [ 6 79  3 35  1]\n",
            "  [ 7 80  4 36  2]]]\n"
          ],
          "name": "stdout"
        },
        {
          "output_type": "execute_result",
          "data": {
            "text/plain": [
              "3"
            ]
          },
          "metadata": {
            "tags": []
          },
          "execution_count": 64
        }
      ]
    },
    {
      "cell_type": "markdown",
      "metadata": {
        "id": "88Fy00_JXGKH"
      },
      "source": [
        "배열에서  rank 3 텐서를 또 쌓아서 rank 4 텐서 등을 생성할 수 있습니다. 딥 러닝에서는 비디오 데이터 처리 경우라면 5까지 올라갈 수 있지만 일반적으로 0-4 rank의 텐서를 사용합니다."
      ]
    },
    {
      "cell_type": "markdown",
      "metadata": {
        "id": "BwiHGH3PYkFM"
      },
      "source": [
        "To make this more concrete, let’s look back at the data we processed in the MNIST example. First, we load the MNIST dataset:"
      ]
    },
    {
      "cell_type": "code",
      "metadata": {
        "id": "F2oYQGmRYspX"
      },
      "source": [
        "from keras.datasets import mnist\n",
        "(train_images, train_labels), (test_images, test_labels) = mnist.load_data()"
      ],
      "execution_count": null,
      "outputs": []
    },
    {
      "cell_type": "markdown",
      "metadata": {
        "id": "0ZQJWidNY1ga"
      },
      "source": [
        "Next, we display the number of axes of the tensor train_images, the ndim attribute:"
      ]
    },
    {
      "cell_type": "code",
      "metadata": {
        "colab": {
          "base_uri": "https://localhost:8080/"
        },
        "id": "DbGhXM4PY94C",
        "outputId": "1c71b65b-8d91-4162-9132-6adc3ac0c570"
      },
      "source": [
        "print(train_images.ndim)\n",
        "print(train_images.shape)\n",
        "print(train_images.dtype)"
      ],
      "execution_count": null,
      "outputs": [
        {
          "output_type": "stream",
          "text": [
            "3\n",
            "(60000, 28, 28)\n",
            "uint8\n"
          ],
          "name": "stdout"
        }
      ]
    },
    {
      "cell_type": "markdown",
      "metadata": {
        "id": "GBaSlM6KZa-T"
      },
      "source": [
        "So what we have here is a rank-3 tensor of 8-bit integers. More precisely, it’s an array of 60,000 matrices of 28 × 28 integers. Each such matrix is a grayscale image, with coefficients between 0 and 255.\n",
        "Let’s display the fourth digit in this rank-3 tensor, using the library Matplotlib (part of the standard scientific Python suite)."
      ]
    },
    {
      "cell_type": "code",
      "metadata": {
        "colab": {
          "base_uri": "https://localhost:8080/",
          "height": 265
        },
        "id": "gYJVkswsZaUN",
        "outputId": "0eec8a49-87c1-4359-e2cd-61d5f26f40d5"
      },
      "source": [
        "digit = train_images[0]\n",
        "import matplotlib.pyplot as plt\n",
        "plt.imshow(digit, cmap=plt.cm.binary)\n",
        "plt.show()"
      ],
      "execution_count": null,
      "outputs": [
        {
          "output_type": "display_data",
          "data": {
            "image/png": "[encoded data removed]",
            "text/plain": [
              "<Figure size 432x288 with 1 Axes>"
            ]
          },
          "metadata": {
            "tags": [],
            "needs_background": "light"
          }
        }
      ]
    },
    {
      "cell_type": "markdown",
      "metadata": {
        "id": "FBWvUFhrbWMc"
      },
      "source": [
        "Naturally, the corresponding label is just the integer 9:"
      ]
    },
    {
      "cell_type": "code",
      "metadata": {
        "colab": {
          "base_uri": "https://localhost:8080/"
        },
        "id": "RuruNGcCbVBx",
        "outputId": "361e49f2-2295-424c-d70e-9e686f8fef63"
      },
      "source": [
        "print(train_labels[0])"
      ],
      "execution_count": null,
      "outputs": [
        {
          "output_type": "stream",
          "text": [
            "5\n"
          ],
          "name": "stdout"
        }
      ]
    },
    {
      "cell_type": "code",
      "metadata": {
        "colab": {
          "base_uri": "https://localhost:8080/"
        },
        "id": "k_l2xSxWFiWl",
        "outputId": "0cbbeb82-98ea-48ce-ecf8-fe28af2b328f"
      },
      "source": [
        "x = np.random.random((32,)) \n",
        "w = np.random.random((32,)) \n",
        "y = np.dot(w, x)\n",
        "print(w)\n",
        "print(x)\n",
        "print(y)"
      ],
      "execution_count": null,
      "outputs": [
        {
          "output_type": "stream",
          "text": [
            "[0.9985618  0.03079425 0.103144   0.34167628 0.75186829 0.22620064\n",
            " 0.11804104 0.81509902 0.37014463 0.68595504 0.64329533 0.62987821\n",
            " 0.96128225 0.1540217  0.12265353 0.04180291 0.98467738 0.86870691\n",
            " 0.72852509 0.60442968 0.27842981 0.51527453 0.79484695 0.8948525\n",
            " 0.8312543  0.1058831  0.00358604 0.87781426 0.80037642 0.20814445\n",
            " 0.26687831 0.48138992]\n",
            "[0.59146902 0.68392099 0.97001201 0.28928044 0.84871498 0.18269534\n",
            " 0.92612707 0.34414211 0.06699591 0.3407335  0.01815819 0.12129532\n",
            " 0.40395988 0.45244039 0.78467845 0.07360163 0.50900184 0.08710186\n",
            " 0.02390622 0.3159152  0.98194005 0.62571031 0.69923518 0.24743176\n",
            " 0.89972746 0.68688691 0.39591954 0.23668171 0.8325659  0.29056228\n",
            " 0.62733902 0.81250138]\n",
            "7.257242624525967\n"
          ],
          "name": "stdout"
        }
      ]
    },
    {
      "cell_type": "markdown",
      "metadata": {
        "id": "N__EAgjGvrDn"
      },
      "source": [
        "직접 같은 일을 하는 함수를 만들어 봅시다."
      ]
    },
    {
      "cell_type": "code",
      "metadata": {
        "id": "hQ-1xIfbXZSk"
      },
      "source": [
        "def vector_dot(w, x):   \n",
        "    z = 0.\n",
        "    for i in range(x.shape[0]):\n",
        "      z += x[i] * w[i]\n",
        "    return z"
      ],
      "execution_count": null,
      "outputs": []
    },
    {
      "cell_type": "code",
      "metadata": {
        "colab": {
          "base_uri": "https://localhost:8080/"
        },
        "id": "NhssYyaJXiFU",
        "outputId": "d1f1e1ab-9027-4bdb-d323-82514881e9a7"
      },
      "source": [
        "vector_dot(w,x)"
      ],
      "execution_count": null,
      "outputs": [
        {
          "output_type": "execute_result",
          "data": {
            "text/plain": [
              "7.257242624525967"
            ]
          },
          "metadata": {
            "tags": []
          },
          "execution_count": 73
        }
      ]
    }
  ]
}