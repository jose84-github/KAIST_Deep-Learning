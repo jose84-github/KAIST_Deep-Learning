{
 "cells": [
  {
   "cell_type": "markdown",
   "metadata": {
    "id": "yk2K8ohx13za"
   },
   "source": [
    "<a href=\"https://colab.research.google.com/drive/1fODAFBnpeu1dOgvf2p0PQP6m8b7o-cYO?usp=sharing#scrollTo=RoWqtAVJ13zn\" target=\"_parent\"><img src=\"https://colab.research.google.com/assets/colab-badge.svg\" alt=\"Open In Colab\"/></a>"
   ]
  },
  {
   "cell_type": "markdown",
   "metadata": {
    "id": "e86N2HUA13ze"
   },
   "source": [
    "# AI는 내 친구: 왕초보의 인공지능 코딩\n",
    "**파이선 기초**\n",
    "* 담당교수: [오종훈](https://www.business.kaist.ac.kr/faculty/johnoh),  [정보미디어경영대학원](https://www.business.kaist.ac.kr/ksim/), [KAIST 경영대학](https://www.business.kaist.ac.kr/)\n",
    "* 더 많은 정보는 AI는 내친구 공식사이트를 방문하세요 [myfriendis.ai](https://myfriendis.ai).\n",
    "*이 강의는 미국 와싱턴대학의 [Jeff Heaton 교수의 강의](https://colab.research.google.com/github/jeffheaton/t81_558_deep_learning/blob/master/t81_558_class_01_2_intro_python.ipynb)를 참조하여 만든 것입니다."
   ]
  },
  {
   "cell_type": "markdown",
   "metadata": {
    "id": "XZTUXYd413zf"
   },
   "source": [
    "# 파이선 기초\n",
    "\n",
    "\n",
    "* **1편: 파이선 소개** [[유튜브]](https://www.youtube.com/) [[노트북]](https://colab.research.google.com/drive/1fODAFBnpeu1dOgvf2p0PQP6m8b7o-cYO?usp=sharing)\n",
    "* 2편: 파이선 Lists, Dictionaries, Sets and JSON [[유튜브]](https://www.youtube.com/)[[노트북]](https://colab.research.google.com/drive/1IqjyoGLFeEdDFuPQ1yMA018Zz9DWuCkA#scrollTo=WD4GqdT54rya)\n",
    "* 3편: 파일 다루기 [[유튜브]](https://www.youtube.com/) [[노트북]](t81_558_class_01_4_python_files.ipynb)\n",
    "* 4편: 함수, 람다, Map/Reduce [[유튜브]](https://www.youtube.com/) [[노트북]](t81_558_class_01_5_python_functional.ipynb)"
   ]
  },
  {
   "cell_type": "markdown",
   "metadata": {
    "id": "z6KhWCxm13zf"
   },
   "source": [
    "# Google CoLab 명령\n",
    "\n",
    "Colab이 올바른 버전인지 확인합니다"
   ]
  },
  {
   "cell_type": "code",
   "execution_count": null,
   "metadata": {
    "id": "KMFPZU3T13zg"
   },
   "outputs": [],
   "source": [
    "try:\n",
    "    from google.colab import drive\n",
    "    %tensorflow_version 2.x\n",
    "    COLAB = True\n",
    "    print(\"Note: using Google CoLab\")\n",
    "except:\n",
    "    print(\"Note: not using Google CoLab\")\n",
    "    COLAB = False"
   ]
  },
  {
   "cell_type": "markdown",
   "metadata": {
    "id": "maa2o9mg13zg"
   },
   "source": [
    "# 1편 파이선 소개\n",
    "\n",
    "Python은 한 줄씩 수행할 수 있는 인터프리터 프로그래밍 언어입니다. Guido van Rossum이란 사람이 1991 년에 취미로 만들었는데 이제 구글, 페이스북 등 세계적인 기업이 가장 많이 사용하는 언어입니다. 배우기 쉽고 일. Python은 기계 학습 연구에서 가장 많이 쓰이는 언어입니다. 가장 많이 쓰는 라이브러리 TensorFlow의 기본 언어입니다.\n",
    "\n",
    "여기서는 2008년에 발표된 파이선3를 기준으로 합니다.\n",
    "\n",
    "다른 튜토리얼과 마찬가지로 Hello World를 인쇄하는 것으로 시작합니다."
   ]
  },
  {
   "cell_type": "code",
   "execution_count": null,
   "metadata": {
    "id": "WsTa0iZt13zg"
   },
   "outputs": [],
   "source": [
    "print(\"Hello World!\")\n",
    "print(\"안녕!\")"
   ]
  },
  {
   "cell_type": "markdown",
   "metadata": {
    "id": "n9ZscNJh13zh"
   },
   "source": [
    "print 함수를 이용해서 Hello World! 를 프린트했습니다. 한글도 됩니다. # 뒤에 주석을 쓸 수 있습니다."
   ]
  },
  {
   "cell_type": "code",
   "execution_count": null,
   "metadata": {
    "id": "YGvMMHsP13zi"
   },
   "outputs": [],
   "source": [
    "# Single line comment (this has no effect on your program)\n",
    "print(\"Hello World\") # Say hello"
   ]
  },
  {
   "cell_type": "markdown",
   "metadata": {
    "id": "dD8o-XpW13zi"
   },
   "source": [
    "삼중 따옴표는 여러 줄의 텍스트를 허용합니다."
   ]
  },
  {
   "cell_type": "code",
   "execution_count": null,
   "metadata": {
    "id": "SxyDMtxo13zi"
   },
   "outputs": [],
   "source": [
    "print(\"\"\"Print\n",
    "Multiple\n",
    "Lines\n",
    "\"\"\")"
   ]
  },
  {
   "cell_type": "markdown",
   "metadata": {
    "id": "JH9Le4FM13zi"
   },
   "source": [
    "Python에서는 작은 따옴표와 큰 따옴표 사이에 차이가 없으며 원하는대로 사용할 수 있습니다. 다음 코드는 작은 따옴표를 사용합니다."
   ]
  },
  {
   "cell_type": "code",
   "execution_count": null,
   "metadata": {
    "id": "XwS1fc9K13zj"
   },
   "outputs": [],
   "source": [
    "print('Hello World')"
   ]
  },
  {
   "cell_type": "markdown",
   "metadata": {
    "id": "zi-8P48313zj"
   },
   "source": [
    "따옴표가 없으면 문자가 아니고 숫자입니다.\n",
    "\n",
    "소수점이 있으면 실수와 정수가 구분됩니다. 예를 들어, 값 42는 정수입니다. 마찬가지로 42.5는 부동 소수점실수입니다. 소수점 부분이 0인 실수를 지정할 수 있습니다. 값 42.0은 소수 부분이 없지만 부동 소수점실수입니다."
   ]
  },
  {
   "cell_type": "code",
   "execution_count": null,
   "metadata": {
    "id": "8eI4JAWh13zj"
   },
   "outputs": [],
   "source": [
    "print(42)\n",
    "print(42.5)\n",
    "print(42.0)"
   ]
  },
  {
   "cell_type": "markdown",
   "metadata": {
    "id": "IzZmT6w713zj"
   },
   "source": [
    "프로그램이 실행될 때 값을 바꿔넣을 수 있는 저장소를 변수라 합니다. 수학의 x, y 같은 역할을 합니다. 변수에는 값을 참조 할 수있는 이름이 있습니다. 다음 코드는 \"a\"라는 변수에 정수 값을 할당하고 \"b\"라는 변수에 문자 값을 할당합니다."
   ]
  },
  {
   "cell_type": "code",
   "execution_count": null,
   "metadata": {
    "id": "NSo7Z6en13zk"
   },
   "outputs": [],
   "source": [
    "a = 10\n",
    "b = \"ten\"\n",
    "print(a)\n",
    "print(b)"
   ]
  },
  {
   "cell_type": "markdown",
   "metadata": {
    "id": "IisoQ6i_13zk"
   },
   "source": [
    "\"=\"는 같다는 equal의 뜻이 아닙니다. 변수에 값을 집어넣으란 뜻입니다."
   ]
  },
  {
   "cell_type": "code",
   "execution_count": null,
   "metadata": {
    "id": "Xuy7pwjZ13zk"
   },
   "outputs": [],
   "source": [
    "a = 10\n",
    "print(a)\n",
    "a = a + 1\n",
    "print(a)"
   ]
  },
  {
   "cell_type": "markdown",
   "metadata": {
    "id": "XnfEMQIR13zl"
   },
   "source": [
    "인쇄를 위해 문자열과 변수를 합칠 수 있습니다. 변수는 중괄호 안에 있어야합니다. 문자를 표시하는 작은 따옴표 또는 큰 따옴표 바로 앞에 \"f\"를 씁니다. 다음 코드는 f- 문자을 사용하여 여러 변수를  문자와 합하는 방법을 보여줍니다."
   ]
  },
  {
   "cell_type": "code",
   "execution_count": null,
   "metadata": {
    "id": "_LSsRuqo13zl"
   },
   "outputs": [],
   "source": [
    "a = 10\n",
    "print(f'The value of a is {a}')"
   ]
  },
  {
   "cell_type": "markdown",
   "metadata": {
    "id": "GYifaM3W13zl"
   },
   "source": [
    "수학공식과 함께 f- 문자열을 사용할 수도 있습니다. 중괄호는 인쇄를 위해 Python 수식을 묶을 수 있습니다. 다음 코드는 f- 문자열의 중괄호 안에 수식을 쓰는 방법을 보여줍니다."
   ]
  },
  {
   "cell_type": "code",
   "execution_count": null,
   "metadata": {
    "id": "O-fYuQfk13zl"
   },
   "outputs": [],
   "source": [
    "a = 10\n",
    "print(f'The value of a plus 5 is {a+5}')"
   ]
  },
  {
   "cell_type": "markdown",
   "metadata": {
    "id": "HiY3Fe9g13zm"
   },
   "source": [
    "논리적인 연산을 위해 if 문을 사용합니다. 들여쓰기가 중요합니다. Python을 처음 사용하는 프로그래머에게는 성가시지만 코드를 읽기가 편해집니다. 탭과 공백은 모두 Python 프로그램에서 범위를 정의하는 데 사용됩니다만, 섞어쓰는 것은 별로입니다."
   ]
  },
  {
   "cell_type": "code",
   "execution_count": null,
   "metadata": {
    "id": "77GnWL__13zm"
   },
   "outputs": [],
   "source": [
    "a = 5\n",
    "if a>5:\n",
    "    print('The variable a is greater than 5.')\n",
    "else:\n",
    "    print('The variable a is not greater than 5')"
   ]
  },
  {
   "cell_type": "markdown",
   "metadata": {
    "id": "kZQFI_Q513zm"
   },
   "source": [
    "다음 if 문에는 여러 단계가 있습니다. 단계별로 들여써야하므로 주의하십시오. 이 코드는 첫 번째 \"a == 5\"if 문 아래에 중첩 된 if 문을 포함합니다. a가 5 인 경우에만 중첩 된 \"b == 6\" if 문이 실행됩니다. 또한 \"elif\"명령은 \"else if\"를 의미하지는 않습니다."
   ]
  },
  {
   "cell_type": "code",
   "execution_count": null,
   "metadata": {
    "id": "KNam1rur13zm"
   },
   "outputs": [],
   "source": [
    "a = 5\n",
    "b = 6\n",
    "\n",
    "if a==5:\n",
    "    print('The variable a is 5')\n",
    "    if b==6:\n",
    "        print('The variable b is also 6')\n",
    "elif a==6:\n",
    "    print('The variable a is 6')\n",
    "    "
   ]
  },
  {
   "cell_type": "markdown",
   "metadata": {
    "id": "q22p3cCi13zn"
   },
   "source": [
    "\n",
    "등호를 두번쓰면 ( \"==\") 두 식이 같은지 여부를 묻는 것입니다. 등호 하나는 ( \"=\") 는 Python에서 변수에 값을 할당하는 데만 사용됩니다. 무엇보다 큼 ( \">\"), 무엇 보다 작음 ( \"<\"), 크거나 같음 ( \"> =\"), 작거나 같음 ( \"<=\")은 모두 수학에서 일반적으로 사용되는대로 수행됩니다. 부등식 테스트는 같지 않음 ( \"! =\") 을 사용합니다. \n",
    "\n",
    "같은 일을 여러번 수행하는 것을 루프(loop)라 합니다. Python은 범위 연산을 사용하여 이를 수행합니다. 여기에서 프로그램이 1과 9 사이에서 반복되도록하는 for 루프와 범위 연산을 볼 수 있습니다."
   ]
  },
  {
   "cell_type": "code",
   "execution_count": null,
   "metadata": {
    "id": "PjL2Zj0313zn"
   },
   "outputs": [],
   "source": [
    "for x in range(1, 10):  # xrange 명령은 Python 2, 더 이상 쓰지 않음\n",
    "    print(x)  \n",
    "# 만약 괄호가 없으면 Python 2\n"
   ]
  },
  {
   "cell_type": "markdown",
   "metadata": {
    "id": "9G10QeYh13zn"
   },
   "source": [
    "range 명령은 특정 범위의 숫자를 알려주기 위해 루프와 함께 사용됩니다. 프로그래머는 숫자 값을 직접 지정해주기보다는  항목 모음에 루프를 사용합니다. 컬렉션과 루프가 수행 할 수있는 작업은이 모듈의 뒷부분에서 다룹니다.\n",
    "\n",
    "다음은 문자열과 숫자를 반복 인쇄하는 또 다른 예입니다."
   ]
  },
  {
   "cell_type": "code",
   "execution_count": null,
   "metadata": {
    "id": "RoWqtAVJ13zn"
   },
   "outputs": [],
   "source": [
    "acc = 0\n",
    "for x in range(1, 10):\n",
    "    acc += x\n",
    "    print(f\"Adding {x}, sum so far is {acc}\")\n",
    "\n",
    "print(f\"Final sum: {acc}\")"
   ]
  }
 ],
 "metadata": {
  "anaconda-cloud": {},
  "colab": {
   "name": "파이선_소개.ipynb",
   "provenance": [
    {
     "file_id": "https://github.com/jeffheaton/t81_558_deep_learning/blob/master/t81_558_class_01_2_intro_python.ipynb",
     "timestamp": 1607758040601
    }
   ]
  },
  "kernelspec": {
   "display_name": "Python 3",
   "language": "python",
   "name": "python3"
  },
  "language_info": {
   "codemirror_mode": {
    "name": "ipython",
    "version": 3
   },
   "file_extension": ".py",
   "mimetype": "text/x-python",
   "name": "python",
   "nbconvert_exporter": "python",
   "pygments_lexer": "ipython3",
   "version": "3.8.3"
  }
 },
 "nbformat": 4,
 "nbformat_minor": 1
}
